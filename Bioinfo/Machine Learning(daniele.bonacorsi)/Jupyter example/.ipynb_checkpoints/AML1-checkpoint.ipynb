{
 "cells": [
  {
   "cell_type": "code",
   "execution_count": 1,
   "metadata": {},
   "outputs": [
    {
     "ename": "ImportError",
     "evalue": "No module named numpy",
     "output_type": "error",
     "traceback": [
      "\u001b[0;31m---------------------------------------------------------------------------\u001b[0m",
      "\u001b[0;31mImportError\u001b[0m                               Traceback (most recent call last)",
      "\u001b[0;32m<ipython-input-1-afb73a479e50>\u001b[0m in \u001b[0;36m<module>\u001b[0;34m()\u001b[0m\n\u001b[1;32m      1\u001b[0m \u001b[0;32mimport\u001b[0m \u001b[0mcsv\u001b[0m\u001b[0;34m\u001b[0m\u001b[0m\n\u001b[0;32m----> 2\u001b[0;31m \u001b[0;32mimport\u001b[0m \u001b[0mnumpy\u001b[0m \u001b[0;32mas\u001b[0m \u001b[0mnp\u001b[0m\u001b[0;34m\u001b[0m\u001b[0m\n\u001b[0m",
      "\u001b[0;31mImportError\u001b[0m: No module named numpy"
     ]
    }
   ],
   "source": [
    "import csv\n",
    "import numpy as np\n",
    "from np import loadtxt\n"
   ]
  },
  {
   "cell_type": "code",
   "execution_count": null,
   "metadata": {},
   "outputs": [
    {
     "name": "stdout",
     "output_type": "stream",
     "text": [
      "Collecting package metadata: done\n",
      "Solving environment: done\n",
      "\n",
      "\n",
      "==> WARNING: A newer version of conda exists. <==\n",
      "  current version: 4.6.8\n",
      "  latest version: 4.6.11\n",
      "\n",
      "Please update conda by running\n",
      "\n",
      "    $ conda update -n base -c defaults conda\n",
      "\n",
      "\n",
      "\n",
      "## Package Plan ##\n",
      "\n",
      "  environment location: /home/rambo/anaconda3/envs/py2\n",
      "\n",
      "  added / updated specs:\n",
      "    - numpy\n",
      "\n",
      "\n",
      "The following packages will be downloaded:\n",
      "\n",
      "    package                    |            build\n",
      "    ---------------------------|-----------------\n",
      "    blas-1.0                   |              mkl           6 KB  anaconda\n",
      "    ca-certificates-2019.1.23  |                0         126 KB  anaconda\n",
      "    certifi-2019.3.9           |           py27_0         155 KB  anaconda\n",
      "    intel-openmp-2019.3        |              199         886 KB  anaconda\n",
      "    libgfortran-ng-7.3.0       |       hdf63c60_0         1.3 MB  anaconda\n",
      "    mkl-2019.3                 |              199       203.3 MB  anaconda\n",
      "    mkl_fft-1.0.10             |   py27ha843d7b_0         161 KB  anaconda\n",
      "    mkl_random-1.0.2           |   py27hd81dba3_0         383 KB  anaconda\n",
      "    numpy-1.16.2               |   py27h7e9f1db_0          49 KB  anaconda\n",
      "    numpy-base-1.16.2          |   py27hde5b4d6_0         4.3 MB  anaconda\n",
      "    openssl-1.1.1              |       h7b6447c_0         5.0 MB  anaconda\n",
      "    ------------------------------------------------------------\n",
      "                                           Total:       215.7 MB\n",
      "\n",
      "The following NEW packages will be INSTALLED:\n",
      "\n",
      "  blas               anaconda/linux-64::blas-1.0-mkl\n",
      "  intel-openmp       anaconda/linux-64::intel-openmp-2019.3-199\n",
      "  libgfortran-ng     anaconda/linux-64::libgfortran-ng-7.3.0-hdf63c60_0\n",
      "  mkl                anaconda/linux-64::mkl-2019.3-199\n",
      "  mkl_fft            anaconda/linux-64::mkl_fft-1.0.10-py27ha843d7b_0\n",
      "  mkl_random         anaconda/linux-64::mkl_random-1.0.2-py27hd81dba3_0\n",
      "  numpy              anaconda/linux-64::numpy-1.16.2-py27h7e9f1db_0\n",
      "  numpy-base         anaconda/linux-64::numpy-base-1.16.2-py27hde5b4d6_0\n",
      "\n",
      "The following packages will be UPDATED:\n",
      "\n",
      "  openssl              pkgs/main::openssl-1.1.1b-h7b6447c_1 --> anaconda::openssl-1.1.1-h7b6447c_0\n",
      "\n",
      "The following packages will be SUPERSEDED by a higher-priority channel:\n",
      "\n",
      "  ca-certificates                                 pkgs/main --> anaconda\n",
      "  certifi                                         pkgs/main --> anaconda\n",
      "\n",
      "\n",
      "Proceed ([y]/n)? "
     ]
    }
   ],
   "source": [
    "filename= 'pima-indians-diabetes.data.csv'                 #import using np\n",
    "raw_data=open(filename, rt)\n",
    "data=loadtxtr(raw_data, delimiter=',')\n",
    "\n"
   ]
  },
  {
   "cell_type": "code",
   "execution_count": null,
   "metadata": {},
   "outputs": [],
   "source": []
  },
  {
   "cell_type": "code",
   "execution_count": null,
   "metadata": {},
   "outputs": [],
   "source": []
  }
 ],
 "metadata": {
  "kernelspec": {
   "display_name": "Python 2",
   "language": "python",
   "name": "python2"
  },
  "language_info": {
   "codemirror_mode": {
    "name": "ipython",
    "version": 2
   },
   "file_extension": ".py",
   "mimetype": "text/x-python",
   "name": "python",
   "nbconvert_exporter": "python",
   "pygments_lexer": "ipython2",
   "version": "2.7.16"
  }
 },
 "nbformat": 4,
 "nbformat_minor": 2
}
